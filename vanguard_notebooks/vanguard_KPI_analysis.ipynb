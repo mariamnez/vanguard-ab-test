{
 "cells": [
  {
   "cell_type": "code",
   "execution_count": 1,
   "id": "2333fb93-79e9-4a84-b8c5-0d8022b7bd55",
   "metadata": {},
   "outputs": [],
   "source": [
    "import pandas as pd, numpy as np\n",
    "from pathlib import Path\n",
    "\n",
    "BASE = Path(r\"C:\\Users\\maria\\Documents\\VANGUARD DATA\")  # change if needed\n",
    "\n",
    "demo = pd.read_csv(BASE / \"df_final_demo_clean.csv\")\n",
    "exp  = pd.read_csv(BASE / \"df_final_experiment_clients_clean.csv\")\n",
    "web  = pd.read_csv(BASE / \"df_final_web_data_clean.csv\")\n",
    "\n",
    "for d in (demo, exp, web):\n",
    "    d[\"client_id\"] = d[\"client_id\"].astype(str).str.strip()\n",
    "web[\"process_step\"] = web[\"process_step\"].astype(str).str.lower().str.strip()\n",
    "web[\"date_time\"]    = pd.to_datetime(web[\"date_time\"], errors=\"coerce\")\n",
    "\n",
    "# Map experiment group → 'Control' / 'Test'\n",
    "if \"variation\" in exp.columns:\n",
    "    v = exp[\"variation\"].astype(str).str.lower().str.strip()\n",
    "    mapping = {\n",
    "        \"control\":\"Control\",\"variant a\":\"Control\",\"a\":\"Control\",\"0\":\"Control\",\n",
    "        \"test\":\"Test\",\"treatment\":\"Test\",\"variant b\":\"Test\",\"b\":\"Test\",\"1\":\"Test\"\n",
    "    }\n",
    "    exp[\"group\"] = v.map(mapping).fillna(\"Unknown\")\n",
    "else:\n",
    "    exp[\"group\"] = \"Unknown\"\n",
    "\n",
    "# Keep only experiment clients and attach group to events\n",
    "w = web[web[\"client_id\"].isin(exp[\"client_id\"])].merge(\n",
    "        exp[[\"client_id\",\"group\"]], on=\"client_id\", how=\"left\"\n",
    "    ).sort_values([\"client_id\",\"visit_id\",\"date_time\"])\n",
    "\n",
    "# If a visit has no 'start', mark its first event as 'start' (funnel consistency)\n",
    "first_in_visit = w.groupby(\"visit_id\").cumcount().eq(0)\n",
    "has_start = w.groupby(\"visit_id\")[\"process_step\"].transform(lambda s: (s==\"start\").any())\n",
    "w.loc[(~has_start) & first_in_visit, \"process_step\"] = \"start\"\n",
    "\n",
    "# Step order for funnel and errors\n",
    "order = [\"start\",\"step_1\",\"step_2\",\"step_3\",\"confirm\"]\n",
    "w[\"step_order\"] = pd.Categorical(w[\"process_step\"], categories=order, ordered=True).codes"
   ]
  },
  {
   "cell_type": "markdown",
   "id": "d7643495-0679-4531-8061-336f081a11dc",
   "metadata": {},
   "source": [
    "**KPI 1 - COMPLETION RATE (CLIENT AND VISIT)**"
   ]
  },
  {
   "cell_type": "code",
   "execution_count": 2,
   "id": "26a5d7bf-3de2-42bb-a620-9db4b5a47ead",
   "metadata": {},
   "outputs": [
    {
     "name": "stdout",
     "output_type": "stream",
     "text": [
      "Client completion rate:\n",
      " group\n",
      "Control    65.16\n",
      "Test       68.60\n",
      "Unknown    67.41\n",
      "Name: completed, dtype: float64 %\n",
      "\n",
      "Visit completion rate:\n",
      " group\n",
      "Control    48.03\n",
      "Test       51.64\n",
      "Unknown    49.92\n",
      "Name: completed, dtype: float64 %\n"
     ]
    }
   ],
   "source": [
    "# Client-level completion per group\n",
    "per_client = (w.groupby([\"group\",\"client_id\"])\n",
    "                .agg(completed=(\"process_step\", lambda s: (s==\"confirm\").any()))\n",
    "                .reset_index())\n",
    "client_completion = per_client.groupby(\"group\")[\"completed\"].mean().sort_index()\n",
    "print(\"Client completion rate:\\n\", (client_completion*100).round(2), \"%\")\n",
    "\n",
    "# Visit-level completion per group\n",
    "per_visit = (w.groupby([\"group\",\"visit_id\"])\n",
    "               .agg(completed=(\"process_step\", lambda s: (s==\"confirm\").any()))\n",
    "               .reset_index())\n",
    "visit_completion = per_visit.groupby(\"group\")[\"completed\"].mean().sort_index()\n",
    "print(\"\\nVisit completion rate:\\n\", (visit_completion*100).round(2), \"%\")"
   ]
  },
  {
   "cell_type": "markdown",
   "id": "282114a7-13d1-4c35-b294-bf85504fc45c",
   "metadata": {},
   "source": [
    "**KPI 2 - TIME SPENT ON EACH STEP**"
   ]
  },
  {
   "cell_type": "code",
   "execution_count": 3,
   "id": "375e39a6-0d48-477e-9572-a720274acc59",
   "metadata": {},
   "outputs": [
    {
     "name": "stdout",
     "output_type": "stream",
     "text": [
      "Median minutes per transition:\n",
      "          start→1   1→2   2→3  3→confirm\n",
      "group                                  \n",
      "Control     0.37  0.37  1.32       1.49\n",
      "Test        0.20  0.52  1.22       0.95\n",
      "Unknown     0.25  0.45  1.25       1.18\n"
     ]
    }
   ],
   "source": [
    "# First timestamp per step within each visit & group\n",
    "first_times = (w[w[\"process_step\"].isin(order)]\n",
    "               .groupby([\"group\",\"visit_id\",\"process_step\"])[\"date_time\"]\n",
    "               .min().unstack())\n",
    "\n",
    "# Build durations (min) and aggregate by group (median & mean)\n",
    "dur = pd.DataFrame({\n",
    "    \"start→1\":      (first_times[\"step_1\"] - first_times[\"start\"]).dt.total_seconds()/60,\n",
    "    \"1→2\":          (first_times[\"step_2\"] - first_times[\"step_1\"]).dt.total_seconds()/60,\n",
    "    \"2→3\":          (first_times[\"step_3\"] - first_times[\"step_2\"]).dt.total_seconds()/60,\n",
    "    \"3→confirm\":    (first_times[\"confirm\"] - first_times[\"step_3\"]).dt.total_seconds()/60,\n",
    "}).reset_index()\n",
    "\n",
    "step_time_median = dur.groupby(\"group\").median(numeric_only=True).round(2)\n",
    "step_time_mean   = dur.groupby(\"group\").mean(numeric_only=True).round(2)\n",
    "print(\"Median minutes per transition:\\n\", step_time_median)"
   ]
  },
  {
   "cell_type": "markdown",
   "id": "72feca18-eb4d-4e25-93b3-ded7ed13ef6c",
   "metadata": {},
   "source": [
    "**KPI 3: ERROR RATE**"
   ]
  },
  {
   "cell_type": "code",
   "execution_count": 4,
   "id": "a734988b-0daa-4756-9589-1874e83af430",
   "metadata": {},
   "outputs": [
    {
     "name": "stdout",
     "output_type": "stream",
     "text": [
      "Visit-level error rate (any backward):\n",
      " group\n",
      "Control    24.68\n",
      "Test       32.04\n",
      "Unknown    28.98\n",
      "Name: is_backward, dtype: float64 %\n",
      "\n",
      "Error rate by step (share of visits that regressed after reaching that step):\n",
      " group                   Control   Test  Unknown\n",
      "prev_step process_step                         \n",
      "confirm   confirm         0.047  0.024    0.044\n",
      "          start           0.023  0.012    0.022\n",
      "          step_1          0.031  0.016    0.029\n",
      "          step_2          0.036  0.018    0.034\n",
      "          step_3          0.040  0.021    0.038\n",
      "step_1    confirm         0.141  0.281    0.219\n",
      "          start           0.068  0.145    0.109\n",
      "          step_1          0.093  0.192    0.148\n",
      "          step_2          0.109  0.221    0.171\n",
      "          step_3          0.120  0.246    0.189\n",
      "step_2    confirm         0.115  0.194    0.154\n",
      "          start           0.055  0.100    0.077\n",
      "          step_1          0.076  0.132    0.104\n",
      "          step_2          0.089  0.152    0.120\n",
      "          step_3          0.098  0.169    0.133\n",
      "step_3    confirm         0.210  0.195    0.196\n",
      "          start           0.101  0.101    0.098\n",
      "          step_1          0.139  0.133    0.133\n",
      "          step_2          0.162  0.154    0.153\n",
      "          step_3          0.179  0.171    0.169\n"
     ]
    }
   ],
   "source": [
    "# Transitions within visit\n",
    "w_sorted = w.sort_values([\"group\",\"visit_id\",\"date_time\"])\n",
    "w_sorted[\"prev_order\"] = w_sorted.groupby(\"visit_id\")[\"step_order\"].shift()\n",
    "w_sorted[\"prev_step\"]  = w_sorted.groupby(\"visit_id\")[\"process_step\"].shift()\n",
    "\n",
    "# Any backward move?\n",
    "trans = w_sorted.dropna(subset=[\"prev_order\"]).copy()\n",
    "trans[\"is_backward\"] = trans[\"step_order\"] < trans[\"prev_order\"]\n",
    "\n",
    "# Overall visit-level error rate\n",
    "visit_errors = (trans.groupby([\"group\",\"visit_id\"])[\"is_backward\"].any().reset_index())\n",
    "error_rate_overall = visit_errors.groupby(\"group\")[\"is_backward\"].mean().sort_index()\n",
    "print(\"Visit-level error rate (any backward):\\n\", (error_rate_overall*100).round(2), \"%\")\n",
    "\n",
    "# Error rate by 'from' step\n",
    "backward_by_from = (trans[trans[\"is_backward\"]]\n",
    "                    .groupby([\"group\",\"prev_step\"])[\"visit_id\"].nunique()\n",
    "                    .rename(\"backward_visits\"))\n",
    "reached_prev = (w.groupby([\"group\",\"process_step\"])[\"visit_id\"].nunique()\n",
    "                .rename(\"visits_reaching_step\"))\n",
    "err_by_step = (backward_by_from / reached_prev).dropna().unstack(0).round(3)  # step rows × group cols\n",
    "print(\"\\nError rate by step (share of visits that regressed after reaching that step):\\n\", err_by_step)"
   ]
  },
  {
   "cell_type": "markdown",
   "id": "4638c67e-ff3d-4357-8d67-a7c9f953b594",
   "metadata": {},
   "source": [
    "**KPI 4 - DROPS BY STEP**"
   ]
  },
  {
   "cell_type": "code",
   "execution_count": 5,
   "id": "8d57a873-3fdf-473d-b053-d1c1c11bc472",
   "metadata": {},
   "outputs": [
    {
     "name": "stdout",
     "output_type": "stream",
     "text": [
      "Client reach rate by step vs start:\n",
      " process_step  start  step_1  step_2  step_3  confirm\n",
      "group                                               \n",
      "Control         1.0   0.851   0.790   0.735    0.652\n",
      "Test            1.0   0.895   0.822   0.767    0.686\n",
      "Unknown         1.0   0.876   0.808   0.755    0.674\n"
     ]
    }
   ],
   "source": [
    "step_clients = (w.groupby([\"group\",\"process_step\"])[\"client_id\"]\n",
    "                  .nunique().unstack().reindex(columns=order).fillna(0))\n",
    "rate_vs_start = (step_clients.div(step_clients[\"start\"], axis=0)).round(3)\n",
    "print(\"Client reach rate by step vs start:\\n\", rate_vs_start)"
   ]
  },
  {
   "cell_type": "code",
   "execution_count": null,
   "id": "2a3472e5-b6d7-4bee-9b74-a926cbc9a9cd",
   "metadata": {},
   "outputs": [],
   "source": []
  }
 ],
 "metadata": {
  "kernelspec": {
   "display_name": "Python [conda env:base] *",
   "language": "python",
   "name": "conda-base-py"
  },
  "language_info": {
   "codemirror_mode": {
    "name": "ipython",
    "version": 3
   },
   "file_extension": ".py",
   "mimetype": "text/x-python",
   "name": "python",
   "nbconvert_exporter": "python",
   "pygments_lexer": "ipython3",
   "version": "3.13.5"
  }
 },
 "nbformat": 4,
 "nbformat_minor": 5
}
